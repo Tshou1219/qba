{
 "cells": [
  {
   "cell_type": "code",
   "execution_count": 4,
   "metadata": {},
   "outputs": [
    {
     "ename": "KeyboardInterrupt",
     "evalue": "",
     "output_type": "error",
     "traceback": [
      "\u001b[1;31m---------------------------------------------------------------------------\u001b[0m",
      "\u001b[1;31mKeyboardInterrupt\u001b[0m                         Traceback (most recent call last)",
      "\u001b[1;32mセル1 を c:\\Users\\taisu\\Desktop\\python\\ba\\main.ipynb\u001b[0m in \u001b[0;36m<cell line: 4>\u001b[1;34m()\u001b[0m\n\u001b[0;32m      <a href='vscode-notebook-cell:/c%3A/Users/taisu/Desktop/python/ba/main.ipynb#ch0000002?line=0'>1</a>\u001b[0m \u001b[39mfrom\u001b[39;00m \u001b[39mba\u001b[39;00m \u001b[39mimport\u001b[39;00m BAModel\n\u001b[0;32m      <a href='vscode-notebook-cell:/c%3A/Users/taisu/Desktop/python/ba/main.ipynb#ch0000002?line=1'>2</a>\u001b[0m bamodel\u001b[39m=\u001b[39mBAModel()\n\u001b[1;32m----> <a href='vscode-notebook-cell:/c%3A/Users/taisu/Desktop/python/ba/main.ipynb#ch0000002?line=3'>4</a>\u001b[0m bamodel\u001b[39m.\u001b[39;49mrun()\n\u001b[0;32m      <a href='vscode-notebook-cell:/c%3A/Users/taisu/Desktop/python/ba/main.ipynb#ch0000002?line=4'>5</a>\u001b[0m bamodel\u001b[39m.\u001b[39mdraw\n",
      "File \u001b[1;32mc:\\Users\\taisu\\Desktop\\python\\ba\\ba.py:28\u001b[0m, in \u001b[0;36mBAModel.run\u001b[1;34m(self)\u001b[0m\n\u001b[0;32m     26\u001b[0m \u001b[39mfor\u001b[39;00m _ \u001b[39min\u001b[39;00m \u001b[39mrange\u001b[39m(\u001b[39mself\u001b[39m\u001b[39m.\u001b[39mm):\n\u001b[0;32m     27\u001b[0m     \u001b[39mwhile\u001b[39;00m \u001b[39mTrue\u001b[39;00m:\n\u001b[1;32m---> 28\u001b[0m         new \u001b[39m=\u001b[39m \u001b[39mint\u001b[39m(\u001b[39mstr\u001b[39m(random\u001b[39m.\u001b[39;49mchoices(nodea, degp))[\u001b[39m1\u001b[39m:\u001b[39m2\u001b[39m])\n\u001b[0;32m     29\u001b[0m         \u001b[39mif\u001b[39;00m \u001b[39mself\u001b[39m\u001b[39m.\u001b[39mG\u001b[39m.\u001b[39mhas_edge(i, new) \u001b[39mor\u001b[39;00m i \u001b[39m==\u001b[39m new:\n\u001b[0;32m     30\u001b[0m             \u001b[39mcontinue\u001b[39;00m\n",
      "File \u001b[1;32mc:\\Users\\taisu\\AppData\\Local\\Programs\\Python\\Python310\\lib\\random.py:531\u001b[0m, in \u001b[0;36mRandom.choices\u001b[1;34m(self, population, weights, cum_weights, k)\u001b[0m\n\u001b[0;32m    529\u001b[0m \u001b[39melif\u001b[39;00m weights \u001b[39mis\u001b[39;00m \u001b[39mnot\u001b[39;00m \u001b[39mNone\u001b[39;00m:\n\u001b[0;32m    530\u001b[0m     \u001b[39mraise\u001b[39;00m \u001b[39mTypeError\u001b[39;00m(\u001b[39m'\u001b[39m\u001b[39mCannot specify both weights and cumulative weights\u001b[39m\u001b[39m'\u001b[39m)\n\u001b[1;32m--> 531\u001b[0m \u001b[39mif\u001b[39;00m \u001b[39mlen\u001b[39;49m(cum_weights) \u001b[39m!=\u001b[39m n:\n\u001b[0;32m    532\u001b[0m     \u001b[39mraise\u001b[39;00m \u001b[39mValueError\u001b[39;00m(\u001b[39m'\u001b[39m\u001b[39mThe number of weights does not match the population\u001b[39m\u001b[39m'\u001b[39m)\n\u001b[0;32m    533\u001b[0m total \u001b[39m=\u001b[39m cum_weights[\u001b[39m-\u001b[39m\u001b[39m1\u001b[39m] \u001b[39m+\u001b[39m \u001b[39m0.0\u001b[39m   \u001b[39m# convert to float\u001b[39;00m\n",
      "\u001b[1;31mKeyboardInterrupt\u001b[0m: "
     ]
    }
   ],
   "source": [
    "from ba import BAModel\n",
    "bamodel=BAModel()\n",
    "\n",
    "bamodel.run()\n",
    "bamodel.draw()"
   ]
  },
  {
   "cell_type": "code",
   "execution_count": null,
   "metadata": {},
   "outputs": [],
   "source": []
  }
 ],
 "metadata": {
  "kernelspec": {
   "display_name": "Python 3.10.5 64-bit",
   "language": "python",
   "name": "python3"
  },
  "language_info": {
   "codemirror_mode": {
    "name": "ipython",
    "version": 3
   },
   "file_extension": ".py",
   "mimetype": "text/x-python",
   "name": "python",
   "nbconvert_exporter": "python",
   "pygments_lexer": "ipython3",
   "version": "3.10.5"
  },
  "orig_nbformat": 4,
  "vscode": {
   "interpreter": {
    "hash": "88fb205dcb234f6069a762ba078e78a683393394cc846e4c2065888b0ce77782"
   }
  }
 },
 "nbformat": 4,
 "nbformat_minor": 2
}
