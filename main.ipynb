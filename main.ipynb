{
 "cells": [
  {
   "cell_type": "code",
   "execution_count": 1,
   "metadata": {},
   "outputs": [
    {
     "ename": "ValueError",
     "evalue": "not enough values to unpack (expected 2, got 1)",
     "output_type": "error",
     "traceback": [
      "\u001b[1;31m---------------------------------------------------------------------------\u001b[0m",
      "\u001b[1;31mTypeError\u001b[0m                                 Traceback (most recent call last)",
      "File \u001b[1;32mc:\\Users\\taisu\\AppData\\Local\\Programs\\Python\\Python310\\lib\\site-packages\\networkx\\classes\\graph.py:576\u001b[0m, in \u001b[0;36mGraph.add_nodes_from\u001b[1;34m(self, nodes_for_adding, **attr)\u001b[0m\n\u001b[0;32m    575\u001b[0m \u001b[39mtry\u001b[39;00m:\n\u001b[1;32m--> 576\u001b[0m     newnode \u001b[39m=\u001b[39m n \u001b[39mnot\u001b[39;49;00m \u001b[39min\u001b[39;49;00m \u001b[39mself\u001b[39;49m\u001b[39m.\u001b[39;49m_node\n\u001b[0;32m    577\u001b[0m     newdict \u001b[39m=\u001b[39m attr\n",
      "\u001b[1;31mTypeError\u001b[0m: unhashable type: 'list'",
      "\nDuring handling of the above exception, another exception occurred:\n",
      "\u001b[1;31mValueError\u001b[0m                                Traceback (most recent call last)",
      "\u001b[1;32mセル1 を c:\\Users\\taisu\\Desktop\\python\\ba\\main.ipynb\u001b[0m in \u001b[0;36m<cell line: 2>\u001b[1;34m()\u001b[0m\n\u001b[0;32m      <a href='vscode-notebook-cell:/c%3A/Users/taisu/Desktop/python/ba/main.ipynb#ch0000002?line=0'>1</a>\u001b[0m \u001b[39mfrom\u001b[39;00m \u001b[39mba\u001b[39;00m \u001b[39mimport\u001b[39;00m BAModel\n\u001b[1;32m----> <a href='vscode-notebook-cell:/c%3A/Users/taisu/Desktop/python/ba/main.ipynb#ch0000002?line=1'>2</a>\u001b[0m bamodel\u001b[39m=\u001b[39mBAModel()\n\u001b[0;32m      <a href='vscode-notebook-cell:/c%3A/Users/taisu/Desktop/python/ba/main.ipynb#ch0000002?line=3'>4</a>\u001b[0m bamodel\u001b[39m.\u001b[39mdraw()\n",
      "File \u001b[1;32mc:\\Users\\taisu\\Desktop\\python\\ba\\ba.py:15\u001b[0m, in \u001b[0;36mBAModel.__init__\u001b[1;34m(self)\u001b[0m\n\u001b[0;32m     13\u001b[0m \u001b[39mdef\u001b[39;00m \u001b[39m__init__\u001b[39m(\u001b[39mself\u001b[39m):\n\u001b[0;32m     14\u001b[0m     \u001b[39mself\u001b[39m\u001b[39m.\u001b[39mG \u001b[39m=\u001b[39m nx\u001b[39m.\u001b[39mGraph()\n\u001b[1;32m---> 15\u001b[0m     \u001b[39mself\u001b[39;49m\u001b[39m.\u001b[39;49mG\u001b[39m.\u001b[39;49madd_nodes_from([i] \u001b[39mfor\u001b[39;49;00m i \u001b[39min\u001b[39;49;00m \u001b[39mrange\u001b[39;49m(\u001b[39mself\u001b[39;49m\u001b[39m.\u001b[39;49mm0))\n\u001b[0;32m     16\u001b[0m     \u001b[39mself\u001b[39m\u001b[39m.\u001b[39mG\u001b[39m.\u001b[39madd_edges_from([(i, j) \u001b[39mfor\u001b[39;00m i \u001b[39min\u001b[39;00m \u001b[39mrange\u001b[39m(\u001b[39mself\u001b[39m\u001b[39m.\u001b[39mm0)\n\u001b[0;32m     17\u001b[0m                           \u001b[39mfor\u001b[39;00m j \u001b[39min\u001b[39;00m \u001b[39mrange\u001b[39m(i)])\n",
      "File \u001b[1;32mc:\\Users\\taisu\\AppData\\Local\\Programs\\Python\\Python310\\lib\\site-packages\\networkx\\classes\\graph.py:579\u001b[0m, in \u001b[0;36mGraph.add_nodes_from\u001b[1;34m(self, nodes_for_adding, **attr)\u001b[0m\n\u001b[0;32m    577\u001b[0m     newdict \u001b[39m=\u001b[39m attr\n\u001b[0;32m    578\u001b[0m \u001b[39mexcept\u001b[39;00m \u001b[39mTypeError\u001b[39;00m:\n\u001b[1;32m--> 579\u001b[0m     n, ndict \u001b[39m=\u001b[39m n\n\u001b[0;32m    580\u001b[0m     newnode \u001b[39m=\u001b[39m n \u001b[39mnot\u001b[39;00m \u001b[39min\u001b[39;00m \u001b[39mself\u001b[39m\u001b[39m.\u001b[39m_node\n\u001b[0;32m    581\u001b[0m     newdict \u001b[39m=\u001b[39m attr\u001b[39m.\u001b[39mcopy()\n",
      "\u001b[1;31mValueError\u001b[0m: not enough values to unpack (expected 2, got 1)"
     ]
    }
   ],
   "source": [
    "from ba import BAModel\n",
    "bamodel=BAModel()\n",
    "\n",
    "bamodel.draw()"
   ]
  },
  {
   "cell_type": "code",
   "execution_count": null,
   "metadata": {},
   "outputs": [],
   "source": []
  },
  {
   "cell_type": "code",
   "execution_count": null,
   "metadata": {},
   "outputs": [],
   "source": [
    "from ba import BAModel \n",
    "bamodel=BAModel()\n",
    "bamodel.run()\n",
    "bamodel.draw()"
   ]
  }
 ],
 "metadata": {
  "kernelspec": {
   "display_name": "Python 3.10.5 64-bit",
   "language": "python",
   "name": "python3"
  },
  "language_info": {
   "codemirror_mode": {
    "name": "ipython",
    "version": 3
   },
   "file_extension": ".py",
   "mimetype": "text/x-python",
   "name": "python",
   "nbconvert_exporter": "python",
   "pygments_lexer": "ipython3",
   "version": "3.10.5"
  },
  "orig_nbformat": 4,
  "vscode": {
   "interpreter": {
    "hash": "88fb205dcb234f6069a762ba078e78a683393394cc846e4c2065888b0ce77782"
   }
  }
 },
 "nbformat": 4,
 "nbformat_minor": 2
}
